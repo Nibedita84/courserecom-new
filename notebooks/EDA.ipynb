{
 "cells": [
  {
   "cell_type": "code",
   "execution_count": 11,
   "metadata": {},
   "outputs": [],
   "source": [
    "import requests\n",
    "\n",
    "res = requests.get('https://ineuron.ai/courses')\n",
    "\n",
    "txt = res.text\n",
    "status = res.status_code\n"
   ]
  },
  {
   "cell_type": "code",
   "execution_count": 12,
   "metadata": {},
   "outputs": [],
   "source": [
    "from bs4 import BeautifulSoup\n",
    "import json\n",
    "soup = BeautifulSoup(res.content, 'html.parser')   #### extracting the website content\n",
    "\n",
    "div = soup.find_all('script', {\"type\": \"application/json\"})   ###finding and extracting the data/type we are intereseted in \n",
    "\n",
    "for data in div:\n",
    "     jsn = json.loads(data.string)   ## parsing the json content of the website\n",
    "\n",
    "final_data = jsn['props']['pageProps']['initialState']['init']    ### extracting and saving the details we want for our model"
   ]
  },
  {
   "cell_type": "code",
   "execution_count": 13,
   "metadata": {},
   "outputs": [],
   "source": [
    "file = open('extracted_data_json', 'wb')\n",
    "\n",
    "import pickle\n",
    "pickle.dump(final_data, file)"
   ]
  },
  {
   "cell_type": "code",
   "execution_count": 14,
   "metadata": {},
   "outputs": [],
   "source": [
    "with open('extracted_data_json', 'rb') as file:\n",
    "    final_data = pickle.load(file)"
   ]
  },
  {
   "cell_type": "code",
   "execution_count": 15,
   "metadata": {},
   "outputs": [],
   "source": [
    "import pandas as pd\n",
    "modified_data = pd.DataFrame(final_data['courses']).transpose().reset_index()"
   ]
  },
  {
   "cell_type": "code",
   "execution_count": null,
   "metadata": {},
   "outputs": [],
   "source": [
    "modified_data['courseInOneNeuron'].fillna(\"None\",inplace=True)"
   ]
  },
  {
   "cell_type": "code",
   "execution_count": 16,
   "metadata": {},
   "outputs": [
    {
     "data": {
      "text/html": [
       "<div>\n",
       "<style scoped>\n",
       "    .dataframe tbody tr th:only-of-type {\n",
       "        vertical-align: middle;\n",
       "    }\n",
       "\n",
       "    .dataframe tbody tr th {\n",
       "        vertical-align: top;\n",
       "    }\n",
       "\n",
       "    .dataframe thead th {\n",
       "        text-align: right;\n",
       "    }\n",
       "</style>\n",
       "<table border=\"1\" class=\"dataframe\">\n",
       "  <thead>\n",
       "    <tr style=\"text-align: right;\">\n",
       "      <th></th>\n",
       "      <th>pricing</th>\n",
       "      <th>index</th>\n",
       "    </tr>\n",
       "  </thead>\n",
       "  <tbody>\n",
       "    <tr>\n",
       "      <th>0</th>\n",
       "      <td>{'IN': 99, 'US': 1.25, 'discount': 100, 'isFre...</td>\n",
       "      <td>Masterclass Why study Web Development &amp; DSA Us...</td>\n",
       "    </tr>\n",
       "    <tr>\n",
       "      <th>1</th>\n",
       "      <td>{'isFree': True, 'IN': 0, 'US': 0, 'discount': 0}</td>\n",
       "      <td>Building Scalable Applications in Java &amp; Sprin...</td>\n",
       "    </tr>\n",
       "    <tr>\n",
       "      <th>2</th>\n",
       "      <td>{'isFree': True, 'IN': 0, 'US': 0, 'discount': 0}</td>\n",
       "      <td>Machine Learning Community Class</td>\n",
       "    </tr>\n",
       "    <tr>\n",
       "      <th>3</th>\n",
       "      <td>{'isFree': True, 'IN': 0, 'US': 0, 'discount': 0}</td>\n",
       "      <td>Mastering Databases</td>\n",
       "    </tr>\n",
       "    <tr>\n",
       "      <th>4</th>\n",
       "      <td>{'isFree': True, 'IN': 0, 'US': 0, 'discount': 0}</td>\n",
       "      <td>CarDekho End to End Project</td>\n",
       "    </tr>\n",
       "    <tr>\n",
       "      <th>...</th>\n",
       "      <td>...</td>\n",
       "      <td>...</td>\n",
       "    </tr>\n",
       "    <tr>\n",
       "      <th>451</th>\n",
       "      <td>{'IN': 25000, 'US': 315, 'discount': 0, 'isFre...</td>\n",
       "      <td>Azure Data scientist Associate DP100</td>\n",
       "    </tr>\n",
       "    <tr>\n",
       "      <th>452</th>\n",
       "      <td>{'IN': 25000, 'US': 315, 'discount': 0, 'isFre...</td>\n",
       "      <td>Digital Marketing</td>\n",
       "    </tr>\n",
       "    <tr>\n",
       "      <th>453</th>\n",
       "      <td>{'IN': 25000, 'US': 315, 'discount': 0, 'isFre...</td>\n",
       "      <td>GIT</td>\n",
       "    </tr>\n",
       "    <tr>\n",
       "      <th>454</th>\n",
       "      <td>{'IN': 25000, 'US': 315, 'discount': 0, 'isFre...</td>\n",
       "      <td>Linux</td>\n",
       "    </tr>\n",
       "    <tr>\n",
       "      <th>455</th>\n",
       "      <td>{'IN': 25000, 'US': 315, 'discount': 0, 'isFre...</td>\n",
       "      <td>R Programming</td>\n",
       "    </tr>\n",
       "  </tbody>\n",
       "</table>\n",
       "<p>456 rows × 2 columns</p>\n",
       "</div>"
      ],
      "text/plain": [
       "                                               pricing  \\\n",
       "0    {'IN': 99, 'US': 1.25, 'discount': 100, 'isFre...   \n",
       "1    {'isFree': True, 'IN': 0, 'US': 0, 'discount': 0}   \n",
       "2    {'isFree': True, 'IN': 0, 'US': 0, 'discount': 0}   \n",
       "3    {'isFree': True, 'IN': 0, 'US': 0, 'discount': 0}   \n",
       "4    {'isFree': True, 'IN': 0, 'US': 0, 'discount': 0}   \n",
       "..                                                 ...   \n",
       "451  {'IN': 25000, 'US': 315, 'discount': 0, 'isFre...   \n",
       "452  {'IN': 25000, 'US': 315, 'discount': 0, 'isFre...   \n",
       "453  {'IN': 25000, 'US': 315, 'discount': 0, 'isFre...   \n",
       "454  {'IN': 25000, 'US': 315, 'discount': 0, 'isFre...   \n",
       "455  {'IN': 25000, 'US': 315, 'discount': 0, 'isFre...   \n",
       "\n",
       "                                                 index  \n",
       "0    Masterclass Why study Web Development & DSA Us...  \n",
       "1    Building Scalable Applications in Java & Sprin...  \n",
       "2                     Machine Learning Community Class  \n",
       "3                                  Mastering Databases  \n",
       "4                          CarDekho End to End Project  \n",
       "..                                                 ...  \n",
       "451               Azure Data scientist Associate DP100  \n",
       "452                                  Digital Marketing  \n",
       "453                                                GIT  \n",
       "454                                              Linux  \n",
       "455                                      R Programming  \n",
       "\n",
       "[456 rows x 2 columns]"
      ]
     },
     "execution_count": 16,
     "metadata": {},
     "output_type": "execute_result"
    }
   ],
   "source": [
    "modified_data[['pricing','index']]"
   ]
  },
  {
   "cell_type": "code",
   "execution_count": 36,
   "metadata": {},
   "outputs": [],
   "source": [
    "import ast\n",
    "def convert(text):\n",
    "    L = []\n",
    "    for i in text:\n",
    "        L.append(i['name']) \n",
    "    return L"
   ]
  },
  {
   "cell_type": "code",
   "execution_count": 37,
   "metadata": {},
   "outputs": [],
   "source": [
    "modified_data['instructorsDetails1'] = modified_data['instructorsDetails'].apply(convert)"
   ]
  },
  {
   "cell_type": "code",
   "execution_count": 38,
   "metadata": {},
   "outputs": [
    {
     "data": {
      "text/html": [
       "<div>\n",
       "<style scoped>\n",
       "    .dataframe tbody tr th:only-of-type {\n",
       "        vertical-align: middle;\n",
       "    }\n",
       "\n",
       "    .dataframe tbody tr th {\n",
       "        vertical-align: top;\n",
       "    }\n",
       "\n",
       "    .dataframe thead th {\n",
       "        text-align: right;\n",
       "    }\n",
       "</style>\n",
       "<table border=\"1\" class=\"dataframe\">\n",
       "  <thead>\n",
       "    <tr style=\"text-align: right;\">\n",
       "      <th></th>\n",
       "      <th>index</th>\n",
       "      <th>_id</th>\n",
       "      <th>platformType</th>\n",
       "      <th>tags</th>\n",
       "      <th>labPlans</th>\n",
       "      <th>mode</th>\n",
       "      <th>categoryId</th>\n",
       "      <th>seo</th>\n",
       "      <th>description</th>\n",
       "      <th>mobilePricing</th>\n",
       "      <th>...</th>\n",
       "      <th>classTimings</th>\n",
       "      <th>batches</th>\n",
       "      <th>createdAt</th>\n",
       "      <th>img</th>\n",
       "      <th>courseMeta</th>\n",
       "      <th>instructorsDetails</th>\n",
       "      <th>pricing</th>\n",
       "      <th>courseInOneNeuron</th>\n",
       "      <th>instructorsDetails1</th>\n",
       "      <th>learning</th>\n",
       "    </tr>\n",
       "  </thead>\n",
       "  <tbody>\n",
       "    <tr>\n",
       "      <th>0</th>\n",
       "      <td>Masterclass Why study Web Development &amp; DSA Us...</td>\n",
       "      <td>6448cc5b456292fbbf29c40a</td>\n",
       "      <td>main</td>\n",
       "      <td>[community]</td>\n",
       "      <td>[]</td>\n",
       "      <td>self-paced</td>\n",
       "      <td>62cd98d053f5fe1def6b9b12</td>\n",
       "      <td>{'keywords': ''}</td>\n",
       "      <td>Learning web development is becoming increasin...</td>\n",
       "      <td>{'IN': 99, 'US': 1.25, 'discount': 100, 'isFre...</td>\n",
       "      <td>...</td>\n",
       "      <td>{'startDate': '30th April'23', 'timings': '6PM...</td>\n",
       "      <td>[]</td>\n",
       "      <td>2023-04-26T07:01:47.957Z</td>\n",
       "      <td>6448cc5b456292fbbf29c40a.jpg</td>\n",
       "      <td>[{'instructors': ['6425405845629281da28a087'],...</td>\n",
       "      <td>[{'_id': '6425405845629281da28a087', 'name': '...</td>\n",
       "      <td>{'IN': 99, 'US': 1.25, 'discount': 100, 'isFre...</td>\n",
       "      <td>NaN</td>\n",
       "      <td>[Sanket Singh]</td>\n",
       "      <td>[[Why web development?, DSA Applications in In...</td>\n",
       "    </tr>\n",
       "    <tr>\n",
       "      <th>1</th>\n",
       "      <td>Building Scalable Applications in Java &amp; Sprin...</td>\n",
       "      <td>64410265456292ae2029a179</td>\n",
       "      <td>main</td>\n",
       "      <td>[community]</td>\n",
       "      <td>[]</td>\n",
       "      <td>self-paced</td>\n",
       "      <td>62cd9b4c53f5fe6d836b9b36</td>\n",
       "      <td>{'keywords': ''}</td>\n",
       "      <td>Building scalable applications in Java and Spr...</td>\n",
       "      <td>{'isFree': True, 'IN': 0, 'US': 0, 'discount': 0}</td>\n",
       "      <td>...</td>\n",
       "      <td>{'startDate': '29th April'23', 'timings': '8.3...</td>\n",
       "      <td>[]</td>\n",
       "      <td>2023-04-20T09:14:13.336Z</td>\n",
       "      <td>64410265456292ae2029a179.jpg</td>\n",
       "      <td>[{'instructors': ['63fdaf9f87f61173feb489be'],...</td>\n",
       "      <td>[{'_id': '63fdaf9f87f61173feb489be', 'name': '...</td>\n",
       "      <td>{'isFree': True, 'IN': 0, 'US': 0, 'discount': 0}</td>\n",
       "      <td>NaN</td>\n",
       "      <td>[Vishwa Mohan]</td>\n",
       "      <td>[[Building Scalable Applications, Understandin...</td>\n",
       "    </tr>\n",
       "    <tr>\n",
       "      <th>2</th>\n",
       "      <td>Machine Learning Community Class</td>\n",
       "      <td>643e93ae4562920804297cae</td>\n",
       "      <td>main</td>\n",
       "      <td>[community]</td>\n",
       "      <td>[]</td>\n",
       "      <td>self-paced</td>\n",
       "      <td>62cd960b53f5fec5156b9aeb</td>\n",
       "      <td>{'keywords': 'Machine learning basics\n",
       "Data pre...</td>\n",
       "      <td>This free course on machine learning is design...</td>\n",
       "      <td>{'IN': 0, 'US': 0, 'discount': 0, 'isFree': Fa...</td>\n",
       "      <td>...</td>\n",
       "      <td>{'startDate': '18th April', 'timings': 'Flexib...</td>\n",
       "      <td>[]</td>\n",
       "      <td>2023-04-18T12:57:18.673Z</td>\n",
       "      <td>643e93ae4562920804297cae.jpg</td>\n",
       "      <td>[{'instructors': ['618929e26e59b248b8c04aa6'],...</td>\n",
       "      <td>[{'_id': '618929e26e59b248b8c04aa6', 'name': '...</td>\n",
       "      <td>{'isFree': True, 'IN': 0, 'US': 0, 'discount': 0}</td>\n",
       "      <td>NaN</td>\n",
       "      <td>[krish naik]</td>\n",
       "      <td>[[Master Machine Learning on Python, Supervise...</td>\n",
       "    </tr>\n",
       "    <tr>\n",
       "      <th>3</th>\n",
       "      <td>Mastering Databases</td>\n",
       "      <td>643972c34562920139294607</td>\n",
       "      <td>main</td>\n",
       "      <td>[community]</td>\n",
       "      <td>[]</td>\n",
       "      <td>self-paced</td>\n",
       "      <td>62cda24c53f5fe6c866b9b9d</td>\n",
       "      <td>{'keywords': ''}</td>\n",
       "      <td>This course is an introduction to databases, t...</td>\n",
       "      <td>{'isFree': True, 'IN': 0, 'US': 0, 'discount': 0}</td>\n",
       "      <td>...</td>\n",
       "      <td>{'startDate': '15th April'23', 'timings': 'Fle...</td>\n",
       "      <td>[]</td>\n",
       "      <td>2023-04-14T15:35:31.687Z</td>\n",
       "      <td>643972c34562920139294607.jpg</td>\n",
       "      <td>[{'instructors': ['63fdaf9f87f61173feb489be', ...</td>\n",
       "      <td>[{'_id': '619370a59db36f163876b413', 'name': '...</td>\n",
       "      <td>{'isFree': True, 'IN': 0, 'US': 0, 'discount': 0}</td>\n",
       "      <td>NaN</td>\n",
       "      <td>[Sudhanshu Kumar, Vishwa Mohan]</td>\n",
       "      <td>[[Fundamental concepts of databases, Data Inte...</td>\n",
       "    </tr>\n",
       "    <tr>\n",
       "      <th>4</th>\n",
       "      <td>CarDekho End to End Project</td>\n",
       "      <td>6439281045629264f12943d8</td>\n",
       "      <td>main</td>\n",
       "      <td>[community]</td>\n",
       "      <td>[]</td>\n",
       "      <td>self-paced</td>\n",
       "      <td>62cd961453f5fe4b636b9aec</td>\n",
       "      <td>{'keywords': 'cardekho project'}</td>\n",
       "      <td>CarDekho is a self-propelled machine or vehicl...</td>\n",
       "      <td>{'isFree': True, 'IN': 0, 'US': 0, 'discount': 0}</td>\n",
       "      <td>...</td>\n",
       "      <td>{'startDate': '14th April'23', 'timings': 'Fle...</td>\n",
       "      <td>[]</td>\n",
       "      <td>2023-04-14T10:16:48.637Z</td>\n",
       "      <td>6439281045629264f12943d8.jpg</td>\n",
       "      <td>[{'instructors': ['618929e26e59b248b8c04aa6'],...</td>\n",
       "      <td>[{'_id': '618929e26e59b248b8c04aa6', 'name': '...</td>\n",
       "      <td>{'isFree': True, 'IN': 0, 'US': 0, 'discount': 0}</td>\n",
       "      <td>NaN</td>\n",
       "      <td>[krish naik]</td>\n",
       "      <td>[[End to End Project, Machine Learning Project]]</td>\n",
       "    </tr>\n",
       "  </tbody>\n",
       "</table>\n",
       "<p>5 rows × 21 columns</p>\n",
       "</div>"
      ],
      "text/plain": [
       "                                               index  \\\n",
       "0  Masterclass Why study Web Development & DSA Us...   \n",
       "1  Building Scalable Applications in Java & Sprin...   \n",
       "2                   Machine Learning Community Class   \n",
       "3                                Mastering Databases   \n",
       "4                        CarDekho End to End Project   \n",
       "\n",
       "                        _id platformType         tags labPlans        mode  \\\n",
       "0  6448cc5b456292fbbf29c40a         main  [community]       []  self-paced   \n",
       "1  64410265456292ae2029a179         main  [community]       []  self-paced   \n",
       "2  643e93ae4562920804297cae         main  [community]       []  self-paced   \n",
       "3  643972c34562920139294607         main  [community]       []  self-paced   \n",
       "4  6439281045629264f12943d8         main  [community]       []  self-paced   \n",
       "\n",
       "                 categoryId  \\\n",
       "0  62cd98d053f5fe1def6b9b12   \n",
       "1  62cd9b4c53f5fe6d836b9b36   \n",
       "2  62cd960b53f5fec5156b9aeb   \n",
       "3  62cda24c53f5fe6c866b9b9d   \n",
       "4  62cd961453f5fe4b636b9aec   \n",
       "\n",
       "                                                 seo  \\\n",
       "0                                   {'keywords': ''}   \n",
       "1                                   {'keywords': ''}   \n",
       "2  {'keywords': 'Machine learning basics\n",
       "Data pre...   \n",
       "3                                   {'keywords': ''}   \n",
       "4                   {'keywords': 'cardekho project'}   \n",
       "\n",
       "                                         description  \\\n",
       "0  Learning web development is becoming increasin...   \n",
       "1  Building scalable applications in Java and Spr...   \n",
       "2  This free course on machine learning is design...   \n",
       "3  This course is an introduction to databases, t...   \n",
       "4  CarDekho is a self-propelled machine or vehicl...   \n",
       "\n",
       "                                       mobilePricing  ...  \\\n",
       "0  {'IN': 99, 'US': 1.25, 'discount': 100, 'isFre...  ...   \n",
       "1  {'isFree': True, 'IN': 0, 'US': 0, 'discount': 0}  ...   \n",
       "2  {'IN': 0, 'US': 0, 'discount': 0, 'isFree': Fa...  ...   \n",
       "3  {'isFree': True, 'IN': 0, 'US': 0, 'discount': 0}  ...   \n",
       "4  {'isFree': True, 'IN': 0, 'US': 0, 'discount': 0}  ...   \n",
       "\n",
       "                                        classTimings batches  \\\n",
       "0  {'startDate': '30th April'23', 'timings': '6PM...      []   \n",
       "1  {'startDate': '29th April'23', 'timings': '8.3...      []   \n",
       "2  {'startDate': '18th April', 'timings': 'Flexib...      []   \n",
       "3  {'startDate': '15th April'23', 'timings': 'Fle...      []   \n",
       "4  {'startDate': '14th April'23', 'timings': 'Fle...      []   \n",
       "\n",
       "                  createdAt                           img  \\\n",
       "0  2023-04-26T07:01:47.957Z  6448cc5b456292fbbf29c40a.jpg   \n",
       "1  2023-04-20T09:14:13.336Z  64410265456292ae2029a179.jpg   \n",
       "2  2023-04-18T12:57:18.673Z  643e93ae4562920804297cae.jpg   \n",
       "3  2023-04-14T15:35:31.687Z  643972c34562920139294607.jpg   \n",
       "4  2023-04-14T10:16:48.637Z  6439281045629264f12943d8.jpg   \n",
       "\n",
       "                                          courseMeta  \\\n",
       "0  [{'instructors': ['6425405845629281da28a087'],...   \n",
       "1  [{'instructors': ['63fdaf9f87f61173feb489be'],...   \n",
       "2  [{'instructors': ['618929e26e59b248b8c04aa6'],...   \n",
       "3  [{'instructors': ['63fdaf9f87f61173feb489be', ...   \n",
       "4  [{'instructors': ['618929e26e59b248b8c04aa6'],...   \n",
       "\n",
       "                                  instructorsDetails  \\\n",
       "0  [{'_id': '6425405845629281da28a087', 'name': '...   \n",
       "1  [{'_id': '63fdaf9f87f61173feb489be', 'name': '...   \n",
       "2  [{'_id': '618929e26e59b248b8c04aa6', 'name': '...   \n",
       "3  [{'_id': '619370a59db36f163876b413', 'name': '...   \n",
       "4  [{'_id': '618929e26e59b248b8c04aa6', 'name': '...   \n",
       "\n",
       "                                             pricing courseInOneNeuron  \\\n",
       "0  {'IN': 99, 'US': 1.25, 'discount': 100, 'isFre...               NaN   \n",
       "1  {'isFree': True, 'IN': 0, 'US': 0, 'discount': 0}               NaN   \n",
       "2  {'isFree': True, 'IN': 0, 'US': 0, 'discount': 0}               NaN   \n",
       "3  {'isFree': True, 'IN': 0, 'US': 0, 'discount': 0}               NaN   \n",
       "4  {'isFree': True, 'IN': 0, 'US': 0, 'discount': 0}               NaN   \n",
       "\n",
       "               instructorsDetails1  \\\n",
       "0                   [Sanket Singh]   \n",
       "1                   [Vishwa Mohan]   \n",
       "2                     [krish naik]   \n",
       "3  [Sudhanshu Kumar, Vishwa Mohan]   \n",
       "4                     [krish naik]   \n",
       "\n",
       "                                            learning  \n",
       "0  [[Why web development?, DSA Applications in In...  \n",
       "1  [[Building Scalable Applications, Understandin...  \n",
       "2  [[Master Machine Learning on Python, Supervise...  \n",
       "3  [[Fundamental concepts of databases, Data Inte...  \n",
       "4   [[End to End Project, Machine Learning Project]]  \n",
       "\n",
       "[5 rows x 21 columns]"
      ]
     },
     "execution_count": 38,
     "metadata": {},
     "output_type": "execute_result"
    }
   ],
   "source": [
    "modified_data.head()"
   ]
  },
  {
   "cell_type": "code",
   "execution_count": 20,
   "metadata": {},
   "outputs": [],
   "source": [
    "import ast\n",
    "def convert1(text):\n",
    "    L = []\n",
    "    for i in text:\n",
    "        L.append(i['overview']['learn']) \n",
    "    return L"
   ]
  },
  {
   "cell_type": "code",
   "execution_count": 21,
   "metadata": {},
   "outputs": [],
   "source": [
    "modified_data['learning'] = modified_data['courseMeta'].apply(convert1)"
   ]
  },
  {
   "cell_type": "code",
   "execution_count": null,
   "metadata": {},
   "outputs": [],
   "source": [
    "modified_data['courseInOneNeuron'].fillna(\"None\",inplace=True)"
   ]
  },
  {
   "cell_type": "code",
   "execution_count": null,
   "metadata": {},
   "outputs": [],
   "source": [
    "finald = modified_data[[\"index\",\"_id\",\"description\",\"instructorsDetails1\", \"learning\"]]"
   ]
  },
  {
   "cell_type": "code",
   "execution_count": null,
   "metadata": {},
   "outputs": [],
   "source": [
    "def collapse(L):\n",
    "    L1 = []\n",
    "    for i in L:\n",
    "        L1.append(i.replace(\" \",\"\"))\n",
    "    return L1"
   ]
  },
  {
   "cell_type": "code",
   "execution_count": null,
   "metadata": {},
   "outputs": [],
   "source": [
    "def collapse1(L):\n",
    "    L1 = []\n",
    "    for i in L:\n",
    "        for j in i:\n",
    "            L1.append(j)\n",
    "    return L1"
   ]
  },
  {
   "cell_type": "code",
   "execution_count": null,
   "metadata": {},
   "outputs": [],
   "source": [
    "finald['instructorsDetails1'] = finald['instructorsDetails1'].apply(collapse)\n",
    "finald.head()"
   ]
  },
  {
   "cell_type": "code",
   "execution_count": null,
   "metadata": {},
   "outputs": [],
   "source": [
    "finald['description'] = finald['learning'].apply(collapse1)"
   ]
  },
  {
   "cell_type": "code",
   "execution_count": null,
   "metadata": {},
   "outputs": [],
   "source": [
    "finald['tags'] = finald['description'] + finald['instructorsDetails1'] +finald['learning']"
   ]
  },
  {
   "cell_type": "code",
   "execution_count": null,
   "metadata": {},
   "outputs": [],
   "source": [
    "finald['tags1'] = [' '.join(map(str, l)) for l in finald['tags']]\n",
    "finald.head()"
   ]
  },
  {
   "cell_type": "code",
   "execution_count": null,
   "metadata": {},
   "outputs": [],
   "source": [
    "finald = finald.drop(['instructorsDetails1', 'description','learning'], axis = 1)"
   ]
  },
  {
   "cell_type": "code",
   "execution_count": null,
   "metadata": {},
   "outputs": [],
   "source": [
    "from sklearn.feature_extraction.text import CountVectorizer\n",
    "cv = CountVectorizer(max_features=5000,stop_words='english')"
   ]
  },
  {
   "cell_type": "code",
   "execution_count": null,
   "metadata": {},
   "outputs": [],
   "source": [
    "vector = cv.fit_transform(finald['tags1']).toarray()"
   ]
  },
  {
   "cell_type": "code",
   "execution_count": null,
   "metadata": {},
   "outputs": [],
   "source": [
    "from sklearn.metrics.pairwise import cosine_similarity\n",
    "similarity = cosine_similarity(vector)\n"
   ]
  },
  {
   "cell_type": "code",
   "execution_count": null,
   "metadata": {},
   "outputs": [],
   "source": [
    "def recommend(course):\n",
    "    index = finald[finald['Title'] == course].index[0]\n",
    "    distances = sorted(list(enumerate(similarity[index])),reverse=True,key = lambda x: x[1])\n",
    "    for i in distances[1:6]:\n",
    "        print(finald.iloc[i[0]].Title)"
   ]
  },
  {
   "cell_type": "code",
   "execution_count": null,
   "metadata": {},
   "outputs": [],
   "source": [
    "finald.rename(columns = {'index':'Title'}, inplace = True)"
   ]
  },
  {
   "cell_type": "code",
   "execution_count": null,
   "metadata": {},
   "outputs": [],
   "source": [
    "finald[finald['Title'] == 'Django']"
   ]
  },
  {
   "cell_type": "code",
   "execution_count": null,
   "metadata": {},
   "outputs": [],
   "source": [
    "def get_requirements(file) -> list[str]:\n",
    "\n",
    "    requirement_list:list[str] = []\n",
    "\n",
    "    with open(file, \"r\") as file1:\n",
    "        for i in file1:\n",
    "            requirement_list.append(i)\n",
    "    return requirement_list"
   ]
  },
  {
   "cell_type": "code",
   "execution_count": null,
   "metadata": {},
   "outputs": [],
   "source": [
    "get_requirements('requirements.txt')"
   ]
  },
  {
   "cell_type": "code",
   "execution_count": 34,
   "metadata": {},
   "outputs": [
    {
     "ename": "TypeError",
     "evalue": "'Pipeline' object is not callable",
     "output_type": "error",
     "traceback": [
      "\u001b[0;31m---------------------------------------------------------------------------\u001b[0m",
      "\u001b[0;31mTypeError\u001b[0m                                 Traceback (most recent call last)",
      "Cell \u001b[0;32mIn[34], line 3\u001b[0m\n\u001b[1;32m      1\u001b[0m \u001b[39mfrom\u001b[39;00m \u001b[39msklearn\u001b[39;00m\u001b[39m.\u001b[39;00m\u001b[39mpipeline\u001b[39;00m \u001b[39mimport\u001b[39;00m Pipeline\n\u001b[1;32m      2\u001b[0m classifier \u001b[39m=\u001b[39m Pipeline(\u001b[39m\"\u001b[39m\u001b[39mzero-shot-classification\u001b[39m\u001b[39m\"\u001b[39m)\n\u001b[0;32m----> 3\u001b[0m result \u001b[39m=\u001b[39m classifier(\u001b[39m\"\u001b[39;49m\u001b[39mthis is a course about GENAI\u001b[39;49m\u001b[39m\"\u001b[39;49m)\n",
      "\u001b[0;31mTypeError\u001b[0m: 'Pipeline' object is not callable"
     ]
    }
   ],
   "source": [
    "from sklearn.pipeline import Pipeline\n",
    "classifier = Pipeline(\"zero-shot-classification\")\n",
    "result = classifier(\"this is a course about GENAI\")"
   ]
  },
  {
   "cell_type": "code",
   "execution_count": null,
   "metadata": {},
   "outputs": [],
   "source": []
  }
 ],
 "metadata": {
  "kernelspec": {
   "display_name": "Python 3",
   "language": "python",
   "name": "python3"
  },
  "language_info": {
   "codemirror_mode": {
    "name": "ipython",
    "version": 3
   },
   "file_extension": ".py",
   "mimetype": "text/x-python",
   "name": "python",
   "nbconvert_exporter": "python",
   "pygments_lexer": "ipython3",
   "version": "3.11.4"
  },
  "orig_nbformat": 4
 },
 "nbformat": 4,
 "nbformat_minor": 2
}
